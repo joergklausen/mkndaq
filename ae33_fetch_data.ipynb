{
 "cells": [
  {
   "cell_type": "code",
   "execution_count": 6,
   "metadata": {},
   "outputs": [
    {
     "name": "stderr",
     "output_type": "stream",
     "text": [
      "'reporting_interval'\n"
     ]
    },
    {
     "name": "stdout",
     "output_type": "stream",
     "text": [
      "done\n"
     ]
    }
   ],
   "source": [
    "from mkndaq.inst.ae33 import AE33\n",
    "\n",
    "cfg = {\"data\": \"~/Documents/mkndaq/data\",\n",
    "        \"reporting_interval\": 10,\n",
    "        \"staging\": {\n",
    "            \"path\": \"~/Documents/mkndaq/staging\",\n",
    "        },\n",
    "        \"logging\": {\n",
    "            \"file\": \"ae33.log\",\n",
    "        },\n",
    "        \"ae33\": {\"type\": \"AE33\",\n",
    "                 \"id\": 169,\n",
    "                 \"serial_number\": \"AE33-S10-01394\",\n",
    "                 \"socket\": {\"host\": \"192.168.3.137\",\n",
    "                            \"port\": 8002,\n",
    "                            \"timeout\": 0.5,\n",
    "                            \"sleep\": 0.5},\n",
    "                 \"get_config\": [\"HELLO\"],\n",
    "                 \"set_config\": [],\n",
    "                 \"set_datetime\": False,          # Should date and time be set when initializing the instrument?\n",
    "                 \"sampling_interval\": 1,        # minutes. How often should data be requested from instrument?\n",
    "                 \"staging_zip\": True,\n",
    "                 \"MAC\": \"C4-00-AD-D8-0A-AC\"\n",
    "            }\n",
    "       }\n",
    "\n",
    "ae33 = AE33(name='ae33', config=cfg)\n",
    "\n",
    "data = ae33._fetch_from_table(name='Data', rows=10000)\n",
    "\n",
    "import pickle\n",
    "with open('ae33.pickle', 'wb') as fp:\n",
    "    pickle.dump(data, fp)\n",
    "    print('done')"
   ]
  }
 ],
 "metadata": {
  "kernelspec": {
   "display_name": ".venv",
   "language": "python",
   "name": "python3"
  },
  "language_info": {
   "codemirror_mode": {
    "name": "ipython",
    "version": 3
   },
   "file_extension": ".py",
   "mimetype": "text/x-python",
   "name": "python",
   "nbconvert_exporter": "python",
   "pygments_lexer": "ipython3",
   "version": "3.8.8"
  },
  "orig_nbformat": 4
 },
 "nbformat": 4,
 "nbformat_minor": 2
}
