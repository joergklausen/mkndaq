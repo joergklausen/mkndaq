{
 "cells": [
  {
   "cell_type": "code",
   "execution_count": null,
   "id": "426f5e15",
   "metadata": {},
   "outputs": [],
   "source": [
    "import os\n",
    "import time\n",
    "\n",
    "from mkndaq.inst.thermo import Thermo49C\n",
    "from mkndaq.inst.thermo import Thermo49i\n",
    "from mkndaq.utils.utils import load_config\n",
    "\n",
    "# config = load_config()\n",
    "\n",
    "tei49cps = Thermo49C(name=\"tei49cps\", config=config)\n",
    "\n"
   ]
  }
 ],
 "metadata": {
  "language_info": {
   "name": "python"
  }
 },
 "nbformat": 4,
 "nbformat_minor": 5
}
